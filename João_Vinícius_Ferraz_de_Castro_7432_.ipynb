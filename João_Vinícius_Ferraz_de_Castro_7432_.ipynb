{
  "nbformat": 4,
  "nbformat_minor": 0,
  "metadata": {
    "colab": {
      "provenance": [],
      "include_colab_link": true
    },
    "kernelspec": {
      "name": "python3",
      "display_name": "Python 3"
    },
    "language_info": {
      "name": "python"
    }
  },
  "cells": [
    {
      "cell_type": "markdown",
      "metadata": {
        "id": "view-in-github",
        "colab_type": "text"
      },
      "source": [
        "<a href=\"https://colab.research.google.com/github/JoaoViniciusFerraz/DNC-arquivos/blob/main/Jo%C3%A3o_Vin%C3%ADcius_Ferraz_de_Castro_7432_.ipynb\" target=\"_parent\"><img src=\"https://colab.research.google.com/assets/colab-badge.svg\" alt=\"Open In Colab\"/></a>"
      ]
    },
    {
      "cell_type": "code",
      "source": [
        "Aluno: João Vinícius Ferraz de Castro \n",
        "RID: 7432"
      ],
      "metadata": {
        "id": "PrLJrn4HlosL"
      },
      "execution_count": null,
      "outputs": []
    },
    {
      "cell_type": "code",
      "source": [
        "import matplotlib.pyplot as plt\n",
        "\n",
        "nomes = ['Joao', 'Vinicius', 'Gustavo', 'Eduardo','Cavalcanti', 'Tainah', 'Vitor']\n",
        "idade = [22, 28, 27, 26, 21, 28, 22]\n"
      ],
      "metadata": {
        "id": "R_r-uWy_mmbL"
      },
      "execution_count": null,
      "outputs": []
    },
    {
      "cell_type": "code",
      "source": [
        "plt.title ('Nome e idade do grupo')\n",
        "plt.bar(nomes,idade)"
      ],
      "metadata": {
        "colab": {
          "base_uri": "https://localhost:8080/",
          "height": 298
        },
        "id": "GuRLOx0RslNA",
        "outputId": "258b7cd4-ebb4-4225-849b-199a031733b0"
      },
      "execution_count": null,
      "outputs": [
        {
          "output_type": "execute_result",
          "data": {
            "text/plain": [
              "<BarContainer object of 7 artists>"
            ]
          },
          "metadata": {},
          "execution_count": 72
        },
        {
          "output_type": "display_data",
          "data": {
            "text/plain": [
              "<Figure size 432x288 with 1 Axes>"
            ],
            "image/png": "[encoded data removed]"
          },
          "metadata": {
            "needs_background": "light"
          }
        }
      ]
    },
    {
      "cell_type": "code",
      "source": [
        "nome_idade = []\n",
        "for nomes, idade in zip(nomes,idade):\n",
        "  nome_idade.append([nomes,idade])\n",
        "\n",
        "nome_idade"
      ],
      "metadata": {
        "colab": {
          "base_uri": "https://localhost:8080/"
        },
        "id": "uzdVYy5qqk_I",
        "outputId": "55f71621-258a-43b0-adb1-22cc8c1e71cc"
      },
      "execution_count": null,
      "outputs": [
        {
          "output_type": "execute_result",
          "data": {
            "text/plain": [
              "[['Joao', 22],\n",
              " ['Vinicius', 28],\n",
              " ['Gustavo', 27],\n",
              " ['Eduardo', 26],\n",
              " ['Cavalcanti', 21],\n",
              " ['Tainah', 28],\n",
              " ['Vitor', 22]]"
            ]
          },
          "metadata": {},
          "execution_count": 73
        }
      ]
    },
    {
      "cell_type": "code",
      "source": [
        "nome = ['Joao', 'Vinicius', 'Gustavo', 'Eduardo','Cavalcanti', 'Tainah', 'Vitor']\n",
        "salario = [3000, 2500, 2800, 6000, 5500, 7000, 3500]"
      ],
      "metadata": {
        "id": "BW_mYQKbs6iZ"
      },
      "execution_count": null,
      "outputs": []
    },
    {
      "cell_type": "code",
      "source": [
        "plt.title ('Expectativa salarial do grupo')\n",
        "plt.bar(nome,salario)"
      ],
      "metadata": {
        "colab": {
          "base_uri": "https://localhost:8080/",
          "height": 298
        },
        "id": "ZvHV0ZJDuEUP",
        "outputId": "736749ef-3cf9-489b-8769-96d8baeed525"
      },
      "execution_count": null,
      "outputs": [
        {
          "output_type": "execute_result",
          "data": {
            "text/plain": [
              "<BarContainer object of 7 artists>"
            ]
          },
          "metadata": {},
          "execution_count": 75
        },
        {
          "output_type": "display_data",
          "data": {
            "text/plain": [
              "<Figure size 432x288 with 1 Axes>"
            ],
            "image/png": "[encoded data removed]"
          },
          "metadata": {
            "needs_background": "light"
          }
        }
      ]
    },
    {
      "cell_type": "code",
      "source": [
        "media=sum(salario)/len(salario)\n",
        "print('O salário médio esperado é de R${:.2f}'.format(media))"
      ],
      "metadata": {
        "colab": {
          "base_uri": "https://localhost:8080/"
        },
        "id": "-lB8WxIktXF1",
        "outputId": "621df93f-4210-4366-ce97-036287457458"
      },
      "execution_count": null,
      "outputs": [
        {
          "output_type": "stream",
          "name": "stdout",
          "text": [
            "O salário médio esperado é de R$4328.57\n"
          ]
        }
      ]
    }
  ]
}